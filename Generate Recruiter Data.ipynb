{
 "cells": [
  {
   "cell_type": "code",
   "execution_count": 4,
   "id": "4ee24249-2029-4675-8ae0-33d7ee4edb7e",
   "metadata": {},
   "outputs": [
    {
     "name": "stdout",
     "output_type": "stream",
     "text": [
      "Successfully created CSV with 100000 records\n",
      "File saved at: C:\\Users\\user\\recruiter_engagement_data.csv\n",
      "File exists: True\n",
      "File size: 5088.12 KB\n",
      "\n",
      "First few rows:\n",
      "  recruiter_id                          company  logins_last_14d  \\\n",
      "0      R100000  Rodriguez, Figueroa and Sanchez                4   \n",
      "1      R100001                        Doyle Ltd                1   \n",
      "2      R100002    Mcclain, Miller and Henderson                3   \n",
      "3      R100003                   Davis and Sons                3   \n",
      "4      R100004      Guzman, Hoffman and Baldwin                2   \n",
      "\n",
      "   job_posts_last_14d  avg_applicant_quality  support_tickets_last_30d  \\\n",
      "0                   3                  72.49                         1   \n",
      "1                   1                  68.59                         0   \n",
      "2                   5                  58.40                         1   \n",
      "3                   5                  77.88                         0   \n",
      "4                   2                  78.92                         1   \n",
      "\n",
      "   ai_tool_usage_count last_active_date  \n",
      "0                    0       2025-05-23  \n",
      "1                    0       2025-05-22  \n",
      "2                    2       2025-05-21  \n",
      "3                    0       2025-05-19  \n",
      "4                    0       2025-06-07  \n"
     ]
    }
   ],
   "source": [
    "import pandas as pd\n",
    "import numpy as np\n",
    "from faker import Faker\n",
    "import random\n",
    "\n",
    "\n",
    "fake = Faker()\n",
    "np.random.seed(42)\n",
    "random.seed(42)\n",
    "Faker.seed(42)   \n",
    "\n",
    "n = 100_000\n",
    "\n",
    "data = {\n",
    "    \"recruiter_id\": [f\"R{100000+i}\" for i in range(n)],\n",
    "    \"company\": [fake.company() for _ in range(n)],\n",
    "    \"logins_last_14d\": np.random.poisson(lam=3, size=n),\n",
    "    \"job_posts_last_14d\": np.random.poisson(lam=1.5, size=n),\n",
    "    \"avg_applicant_quality\": np.round(np.random.normal(loc=70, scale=10, size=n), 2),\n",
    "    \"support_tickets_last_30d\": np.random.poisson(lam=0.5, size=n),\n",
    "    \"ai_tool_usage_count\": np.random.poisson(lam=0.8, size=n),\n",
    "    \"last_active_date\": [fake.date_between(start_date='-30d', end_date='today') for _ in range(n)]\n",
    "}\n",
    "\n",
    "\n",
    "df = pd.DataFrame(data)\n",
    "\n",
    "# apply constraint\n",
    "df['avg_applicant_quality'] = df['avg_applicant_quality'].clip(0, 100)\n",
    "df['support_tickets_last_30d'] = df['support_tickets_last_30d'].clip(0, 5)\n",
    "df['ai_tool_usage_count'] = df['ai_tool_usage_count'].clip(0, 10)\n",
    "\n",
    "# Save to CSV with full path display\n",
    "import os\n",
    "\n",
    "try:\n",
    "    \n",
    "    current_dir = os.getcwd()\n",
    "    file_path = os.path.join(current_dir, \"recruiter_engagement_data.csv\")\n",
    "    \n",
    "    df.to_csv(\"recruiter_engagement_data.csv\", index=False)\n",
    "    \n",
    "    print(f\"Successfully created CSV with {len(df)} records\")\n",
    "    print(f\"File saved at: {file_path}\")\n",
    "    print(f\"File exists: {os.path.exists(file_path)}\")\n",
    "    print(f\"File size: {os.path.getsize(file_path) / 1024:.2f} KB\")\n",
    "    \n",
    "    print(\"\\nFirst few rows:\")\n",
    "    print(df.head())\n",
    "    \n",
    "except Exception as e:\n",
    "    print(f\"Error saving CSV: {e}\")\n"
   ]
  },
  {
   "cell_type": "code",
   "execution_count": null,
   "id": "9eba610b-fbc6-4bcd-b6e0-8859015ea3d5",
   "metadata": {},
   "outputs": [],
   "source": []
  }
 ],
 "metadata": {
  "kernelspec": {
   "display_name": "Python 3 (ipykernel)",
   "language": "python",
   "name": "python3"
  },
  "language_info": {
   "codemirror_mode": {
    "name": "ipython",
    "version": 3
   },
   "file_extension": ".py",
   "mimetype": "text/x-python",
   "name": "python",
   "nbconvert_exporter": "python",
   "pygments_lexer": "ipython3",
   "version": "3.12.9"
  }
 },
 "nbformat": 4,
 "nbformat_minor": 5
}
